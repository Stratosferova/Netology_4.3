{
 "cells": [
  {
   "cell_type": "code",
   "execution_count": 56,
   "metadata": {
    "collapsed": true
   },
   "outputs": [],
   "source": [
    "import requests\n",
    "import pandas as pd\n",
    "import numpy as np\n",
    "import http.client\n",
    "import json\n",
    "from scipy.cluster.vq import whiten, kmeans2\n",
    "import matplotlib.pyplot as plt\n",
    "\n",
    "%matplotlib inline"
   ]
  },
  {
   "cell_type": "markdown",
   "metadata": {},
   "source": [
    "Используя kmeans сделать кластеризацию футбольных команд по голам дома и в гостях, результат отобразить в виде точечного графика для случая из 3 и из 5 кластеров"
   ]
  },
  {
   "cell_type": "code",
   "execution_count": 65,
   "metadata": {
    "collapsed": true
   },
   "outputs": [],
   "source": [
    "def get_api(url, result_key):\n",
    "    json = {}\n",
    "    try:\n",
    "        json = requests.get(url, headers = {'X-Auth-Token': 'bdb816e3b91a4763aafd0fc1d0485d65'}).json()\n",
    "        return json[result_key]\n",
    "    except:\n",
    "        print(json)\n",
    "        return None"
   ]
  },
  {
   "cell_type": "code",
   "execution_count": 95,
   "metadata": {
    "collapsed": false
   },
   "outputs": [],
   "source": [
    "teams = get_api('http://api.football-data.org/v1/soccerseasons/439/teams', 'teams')\n",
    "#teams"
   ]
  },
  {
   "cell_type": "code",
   "execution_count": 114,
   "metadata": {
    "collapsed": false
   },
   "outputs": [
    {
     "name": "stdout",
     "output_type": "stream",
     "text": [
      "team: FC Rio Ave, home_goals: 7, away_goals: 2\n",
      "team: FC Porto, home_goals: 16, away_goals: 7\n",
      "team: Moreirense FC, home_goals: 1, away_goals: 5\n",
      "team: FC Paços de Ferreira, home_goals: 6, away_goals: 3\n",
      "team: Sporting CP, home_goals: 5, away_goals: 14\n",
      "team: Maritimo Funchal, home_goals: 6, away_goals: 3\n",
      "team: CD Tondela, home_goals: 5, away_goals: 5\n",
      "team: SL Benfica, home_goals: 13, away_goals: 4\n",
      "team: Boavista Porto FC, home_goals: 5, away_goals: 2\n",
      "team: FC Arouca, home_goals: 0, away_goals: 0\n",
      "team: Vitoria Setubal, home_goals: 5, away_goals: 2\n",
      "team: C.F. Os Belenenses, home_goals: 5, away_goals: 5\n",
      "team: Vitoria Guimaraes, home_goals: 6, away_goals: 1\n",
      "team: Sporting Braga, home_goals: 10, away_goals: 5\n",
      "team: GD Estoril Praia, home_goals: 3, away_goals: 5\n",
      "team: Feirense, home_goals: 6, away_goals: 3\n",
      "team: Nacional Funchal, home_goals: 0, away_goals: 0\n",
      "team: G.D. Chaves, home_goals: 4, away_goals: 5\n"
     ]
    }
   ],
   "source": [
    "for team in teams:\n",
    "    name = get_api(team['_links']['self']['href'], 'name')\n",
    "    fixtures = get_api(team['_links']['fixtures']['href'], 'fixtures')\n",
    "    home_goals = 0\n",
    "    away_goals = 0\n",
    "    for i in fixtures:\n",
    "        if i['status'] != 'FINISHED':\n",
    "            continue\n",
    "        if team['name'] == i['awayTeamName']:\n",
    "            away_goals += i['result']['goalsAwayTeam']\n",
    "        else:\n",
    "            home_goals += i['result']['goalsHomeTeam']\n",
    "    print('team: {}, home_goals: {}, away_goals: {}'.format(name, home_goals, away_goals))\n",
    "    team['away_goals'] = away_goals\n",
    "    team['home_goals'] = home_goals"
   ]
  },
  {
   "cell_type": "code",
   "execution_count": 116,
   "metadata": {
    "collapsed": false
   },
   "outputs": [
    {
     "data": {
      "text/plain": [
       "[{'away_goals': 2, 'home_goals': 7, 'name': 'FC Rio Ave'},\n",
       " {'away_goals': 7, 'home_goals': 16, 'name': 'FC Porto'},\n",
       " {'away_goals': 5, 'home_goals': 1, 'name': 'Moreirense FC'},\n",
       " {'away_goals': 3, 'home_goals': 6, 'name': 'FC Paços de Ferreira'},\n",
       " {'away_goals': 14, 'home_goals': 5, 'name': 'Sporting CP'},\n",
       " {'away_goals': 3, 'home_goals': 6, 'name': 'Maritimo Funchal'},\n",
       " {'away_goals': 5, 'home_goals': 5, 'name': 'CD Tondela'},\n",
       " {'away_goals': 4, 'home_goals': 13, 'name': 'SL Benfica'},\n",
       " {'away_goals': 2, 'home_goals': 5, 'name': 'Boavista Porto FC'},\n",
       " {'away_goals': 2, 'home_goals': 5, 'name': 'Vitoria Setubal'},\n",
       " {'away_goals': 5, 'home_goals': 5, 'name': 'C.F. Os Belenenses'},\n",
       " {'away_goals': 1, 'home_goals': 6, 'name': 'Vitoria Guimaraes'},\n",
       " {'away_goals': 5, 'home_goals': 10, 'name': 'Sporting Braga'},\n",
       " {'away_goals': 5, 'home_goals': 3, 'name': 'GD Estoril Praia'},\n",
       " {'away_goals': 3, 'home_goals': 6, 'name': 'Feirense'},\n",
       " {'away_goals': 5, 'home_goals': 4, 'name': 'G.D. Chaves'}]"
      ]
     },
     "execution_count": 116,
     "metadata": {},
     "output_type": "execute_result"
    }
   ],
   "source": [
    "data = []\n",
    "for team in teams:\n",
    "    if team['home_goals']:\n",
    "        data.append({'name': team['name'], 'home_goals': team['home_goals'], 'away_goals': team['away_goals']})\n",
    "data"
   ]
  },
  {
   "cell_type": "code",
   "execution_count": 118,
   "metadata": {
    "collapsed": false
   },
   "outputs": [
    {
     "data": {
      "text/html": [
       "<div>\n",
       "<table border=\"1\" class=\"dataframe\">\n",
       "  <thead>\n",
       "    <tr style=\"text-align: right;\">\n",
       "      <th></th>\n",
       "      <th>away_goals</th>\n",
       "      <th>home_goals</th>\n",
       "      <th>name</th>\n",
       "    </tr>\n",
       "  </thead>\n",
       "  <tbody>\n",
       "    <tr>\n",
       "      <th>0</th>\n",
       "      <td>2</td>\n",
       "      <td>7</td>\n",
       "      <td>FC Rio Ave</td>\n",
       "    </tr>\n",
       "    <tr>\n",
       "      <th>1</th>\n",
       "      <td>7</td>\n",
       "      <td>16</td>\n",
       "      <td>FC Porto</td>\n",
       "    </tr>\n",
       "    <tr>\n",
       "      <th>2</th>\n",
       "      <td>5</td>\n",
       "      <td>1</td>\n",
       "      <td>Moreirense FC</td>\n",
       "    </tr>\n",
       "    <tr>\n",
       "      <th>3</th>\n",
       "      <td>3</td>\n",
       "      <td>6</td>\n",
       "      <td>FC Paços de Ferreira</td>\n",
       "    </tr>\n",
       "    <tr>\n",
       "      <th>4</th>\n",
       "      <td>14</td>\n",
       "      <td>5</td>\n",
       "      <td>Sporting CP</td>\n",
       "    </tr>\n",
       "    <tr>\n",
       "      <th>5</th>\n",
       "      <td>3</td>\n",
       "      <td>6</td>\n",
       "      <td>Maritimo Funchal</td>\n",
       "    </tr>\n",
       "    <tr>\n",
       "      <th>6</th>\n",
       "      <td>5</td>\n",
       "      <td>5</td>\n",
       "      <td>CD Tondela</td>\n",
       "    </tr>\n",
       "    <tr>\n",
       "      <th>7</th>\n",
       "      <td>4</td>\n",
       "      <td>13</td>\n",
       "      <td>SL Benfica</td>\n",
       "    </tr>\n",
       "    <tr>\n",
       "      <th>8</th>\n",
       "      <td>2</td>\n",
       "      <td>5</td>\n",
       "      <td>Boavista Porto FC</td>\n",
       "    </tr>\n",
       "    <tr>\n",
       "      <th>9</th>\n",
       "      <td>2</td>\n",
       "      <td>5</td>\n",
       "      <td>Vitoria Setubal</td>\n",
       "    </tr>\n",
       "    <tr>\n",
       "      <th>10</th>\n",
       "      <td>5</td>\n",
       "      <td>5</td>\n",
       "      <td>C.F. Os Belenenses</td>\n",
       "    </tr>\n",
       "    <tr>\n",
       "      <th>11</th>\n",
       "      <td>1</td>\n",
       "      <td>6</td>\n",
       "      <td>Vitoria Guimaraes</td>\n",
       "    </tr>\n",
       "    <tr>\n",
       "      <th>12</th>\n",
       "      <td>5</td>\n",
       "      <td>10</td>\n",
       "      <td>Sporting Braga</td>\n",
       "    </tr>\n",
       "    <tr>\n",
       "      <th>13</th>\n",
       "      <td>5</td>\n",
       "      <td>3</td>\n",
       "      <td>GD Estoril Praia</td>\n",
       "    </tr>\n",
       "    <tr>\n",
       "      <th>14</th>\n",
       "      <td>3</td>\n",
       "      <td>6</td>\n",
       "      <td>Feirense</td>\n",
       "    </tr>\n",
       "    <tr>\n",
       "      <th>15</th>\n",
       "      <td>5</td>\n",
       "      <td>4</td>\n",
       "      <td>G.D. Chaves</td>\n",
       "    </tr>\n",
       "  </tbody>\n",
       "</table>\n",
       "</div>"
      ],
      "text/plain": [
       "    away_goals  home_goals                  name\n",
       "0            2           7            FC Rio Ave\n",
       "1            7          16              FC Porto\n",
       "2            5           1         Moreirense FC\n",
       "3            3           6  FC Paços de Ferreira\n",
       "4           14           5           Sporting CP\n",
       "5            3           6      Maritimo Funchal\n",
       "6            5           5            CD Tondela\n",
       "7            4          13            SL Benfica\n",
       "8            2           5     Boavista Porto FC\n",
       "9            2           5       Vitoria Setubal\n",
       "10           5           5    C.F. Os Belenenses\n",
       "11           1           6     Vitoria Guimaraes\n",
       "12           5          10        Sporting Braga\n",
       "13           5           3      GD Estoril Praia\n",
       "14           3           6              Feirense\n",
       "15           5           4           G.D. Chaves"
      ]
     },
     "execution_count": 118,
     "metadata": {},
     "output_type": "execute_result"
    }
   ],
   "source": [
    "data_pd = pd.DataFrame(data)\n",
    "data_pd"
   ]
  },
  {
   "cell_type": "code",
   "execution_count": 120,
   "metadata": {
    "collapsed": false
   },
   "outputs": [
    {
     "data": {
      "text/plain": [
       "<matplotlib.axes._subplots.AxesSubplot at 0x11708bc18>"
      ]
     },
     "execution_count": 120,
     "metadata": {},
     "output_type": "execute_result"
    },
    {
     "data": {
      "image/png": "[encoded data removed]",
      "text/plain": [
       "<matplotlib.figure.Figure at 0x11b296940>"
      ]
     },
     "metadata": {},
     "output_type": "display_data"
    }
   ],
   "source": [
    "data_pd.plot.scatter(x='away_goals', y='home_goals', c='b', s=50)"
   ]
  },
  {
   "cell_type": "code",
   "execution_count": 121,
   "metadata": {
    "collapsed": false
   },
   "outputs": [
    {
     "data": {
      "text/html": [
       "<div>\n",
       "<table border=\"1\" class=\"dataframe\">\n",
       "  <thead>\n",
       "    <tr style=\"text-align: right;\">\n",
       "      <th></th>\n",
       "      <th>away_goals</th>\n",
       "      <th>home_goals</th>\n",
       "    </tr>\n",
       "  </thead>\n",
       "  <tbody>\n",
       "    <tr>\n",
       "      <th>0</th>\n",
       "      <td>2</td>\n",
       "      <td>7</td>\n",
       "    </tr>\n",
       "    <tr>\n",
       "      <th>1</th>\n",
       "      <td>7</td>\n",
       "      <td>16</td>\n",
       "    </tr>\n",
       "    <tr>\n",
       "      <th>2</th>\n",
       "      <td>5</td>\n",
       "      <td>1</td>\n",
       "    </tr>\n",
       "    <tr>\n",
       "      <th>3</th>\n",
       "      <td>3</td>\n",
       "      <td>6</td>\n",
       "    </tr>\n",
       "    <tr>\n",
       "      <th>4</th>\n",
       "      <td>14</td>\n",
       "      <td>5</td>\n",
       "    </tr>\n",
       "    <tr>\n",
       "      <th>5</th>\n",
       "      <td>3</td>\n",
       "      <td>6</td>\n",
       "    </tr>\n",
       "    <tr>\n",
       "      <th>6</th>\n",
       "      <td>5</td>\n",
       "      <td>5</td>\n",
       "    </tr>\n",
       "    <tr>\n",
       "      <th>7</th>\n",
       "      <td>4</td>\n",
       "      <td>13</td>\n",
       "    </tr>\n",
       "    <tr>\n",
       "      <th>8</th>\n",
       "      <td>2</td>\n",
       "      <td>5</td>\n",
       "    </tr>\n",
       "    <tr>\n",
       "      <th>9</th>\n",
       "      <td>2</td>\n",
       "      <td>5</td>\n",
       "    </tr>\n",
       "    <tr>\n",
       "      <th>10</th>\n",
       "      <td>5</td>\n",
       "      <td>5</td>\n",
       "    </tr>\n",
       "    <tr>\n",
       "      <th>11</th>\n",
       "      <td>1</td>\n",
       "      <td>6</td>\n",
       "    </tr>\n",
       "    <tr>\n",
       "      <th>12</th>\n",
       "      <td>5</td>\n",
       "      <td>10</td>\n",
       "    </tr>\n",
       "    <tr>\n",
       "      <th>13</th>\n",
       "      <td>5</td>\n",
       "      <td>3</td>\n",
       "    </tr>\n",
       "    <tr>\n",
       "      <th>14</th>\n",
       "      <td>3</td>\n",
       "      <td>6</td>\n",
       "    </tr>\n",
       "    <tr>\n",
       "      <th>15</th>\n",
       "      <td>5</td>\n",
       "      <td>4</td>\n",
       "    </tr>\n",
       "  </tbody>\n",
       "</table>\n",
       "</div>"
      ],
      "text/plain": [
       "    away_goals  home_goals\n",
       "0            2           7\n",
       "1            7          16\n",
       "2            5           1\n",
       "3            3           6\n",
       "4           14           5\n",
       "5            3           6\n",
       "6            5           5\n",
       "7            4          13\n",
       "8            2           5\n",
       "9            2           5\n",
       "10           5           5\n",
       "11           1           6\n",
       "12           5          10\n",
       "13           5           3\n",
       "14           3           6\n",
       "15           5           4"
      ]
     },
     "execution_count": 121,
     "metadata": {},
     "output_type": "execute_result"
    }
   ],
   "source": [
    "del data_pd['name']\n",
    "data_pd"
   ]
  },
  {
   "cell_type": "code",
   "execution_count": 123,
   "metadata": {
    "collapsed": false
   },
   "outputs": [
    {
     "data": {
      "text/plain": [
       "array([[ 0.68615202,  1.95114845],\n",
       "       [ 2.40153208,  4.45976789],\n",
       "       [ 1.71538006,  0.27873549],\n",
       "       [ 1.02922803,  1.67241296],\n",
       "       [ 4.80306416,  1.39367746],\n",
       "       [ 1.02922803,  1.67241296],\n",
       "       [ 1.71538006,  1.39367746],\n",
       "       [ 1.37230404,  3.62356141],\n",
       "       [ 0.68615202,  1.39367746],\n",
       "       [ 0.68615202,  1.39367746],\n",
       "       [ 1.71538006,  1.39367746],\n",
       "       [ 0.34307601,  1.67241296],\n",
       "       [ 1.71538006,  2.78735493],\n",
       "       [ 1.71538006,  0.83620648],\n",
       "       [ 1.02922803,  1.67241296],\n",
       "       [ 1.71538006,  1.11494197]])"
      ]
     },
     "execution_count": 123,
     "metadata": {},
     "output_type": "execute_result"
    }
   ],
   "source": [
    "data_matrix = whiten(data_pd.as_matrix())\n",
    "data_matrix"
   ]
  },
  {
   "cell_type": "code",
   "execution_count": 124,
   "metadata": {
    "collapsed": false
   },
   "outputs": [
    {
     "data": {
      "text/plain": [
       "(array([[ 1.71538006,  2.78735493],\n",
       "        [ 1.45147543,  1.37223627],\n",
       "        [ 1.88691806,  4.04166465]]),\n",
       " array([1, 2, 1, 1, 1, 1, 1, 2, 1, 1, 1, 1, 0, 1, 1, 1], dtype=int32))"
      ]
     },
     "execution_count": 124,
     "metadata": {},
     "output_type": "execute_result"
    }
   ],
   "source": [
    "centroids, cluster_map = kmeans2(data_matrix, 3)\n",
    "centroids, cluster_map"
   ]
  },
  {
   "cell_type": "code",
   "execution_count": 126,
   "metadata": {
    "collapsed": false
   },
   "outputs": [
    {
     "data": {
      "text/plain": [
       "['pink',\n",
       " 'g',\n",
       " 'pink',\n",
       " 'pink',\n",
       " 'pink',\n",
       " 'pink',\n",
       " 'pink',\n",
       " 'g',\n",
       " 'pink',\n",
       " 'pink',\n",
       " 'pink',\n",
       " 'pink',\n",
       " 'c',\n",
       " 'pink',\n",
       " 'pink',\n",
       " 'pink']"
      ]
     },
     "execution_count": 126,
     "metadata": {},
     "output_type": "execute_result"
    }
   ],
   "source": [
    "colors_map = {0: 'c', 1: 'pink', 2: 'g', 3: 'b', 4: 'r'}\n",
    "colors = [colors_map[c] for c in cluster_map]\n",
    "colors"
   ]
  },
  {
   "cell_type": "code",
   "execution_count": 128,
   "metadata": {
    "collapsed": false
   },
   "outputs": [
    {
     "data": {
      "text/plain": [
       "<matplotlib.axes._subplots.AxesSubplot at 0x11b3e3940>"
      ]
     },
     "execution_count": 128,
     "metadata": {},
     "output_type": "execute_result"
    },
    {
     "data": {
      "image/png": "[encoded data removed]",
      "text/plain": [
       "<matplotlib.figure.Figure at 0x11f3a9da0>"
      ]
     },
     "metadata": {},
     "output_type": "display_data"
    }
   ],
   "source": [
    "data_pd.plot.scatter(x='away_goals', y='home_goals', c=colors, s=100) #как-то не особо отличается по рисунку) попробуем 5!"
   ]
  },
  {
   "cell_type": "code",
   "execution_count": 129,
   "metadata": {
    "collapsed": false
   },
   "outputs": [
    {
     "name": "stderr",
     "output_type": "stream",
     "text": [
      "/Users/staroverova/anaconda/lib/python3.6/site-packages/scipy/cluster/vq.py:653: UserWarning: One of the clusters is empty. Re-run kmean with a different initialization.\n",
      "  warnings.warn(\"One of the clusters is empty. \"\n"
     ]
    },
    {
     "data": {
      "text/plain": [
       "(array([[ 0.34307601,  1.67241296],\n",
       "        [ 4.80306416,  1.39367746],\n",
       "        [ 0.85769003,  1.62595704],\n",
       "        [ 1.82973873,  3.62356141],\n",
       "        [ 1.71538006,  1.00344777]]),\n",
       " array([2, 3, 4, 2, 1, 2, 4, 3, 2, 2, 4, 0, 3, 4, 2, 4], dtype=int32))"
      ]
     },
     "execution_count": 129,
     "metadata": {},
     "output_type": "execute_result"
    }
   ],
   "source": [
    "centroids, cluster_map = kmeans2(data_matrix, 5)\n",
    "centroids, cluster_map"
   ]
  },
  {
   "cell_type": "code",
   "execution_count": 130,
   "metadata": {
    "collapsed": false
   },
   "outputs": [
    {
     "data": {
      "text/plain": [
       "['g',\n",
       " 'b',\n",
       " 'r',\n",
       " 'g',\n",
       " 'pink',\n",
       " 'g',\n",
       " 'r',\n",
       " 'b',\n",
       " 'g',\n",
       " 'g',\n",
       " 'r',\n",
       " 'c',\n",
       " 'b',\n",
       " 'r',\n",
       " 'g',\n",
       " 'r']"
      ]
     },
     "execution_count": 130,
     "metadata": {},
     "output_type": "execute_result"
    }
   ],
   "source": [
    "colors_map = {0: 'c', 1: 'pink', 2: 'g', 3: 'b', 4: 'r'}\n",
    "colors = [colors_map[c] for c in cluster_map]\n",
    "colors"
   ]
  },
  {
   "cell_type": "code",
   "execution_count": 131,
   "metadata": {
    "collapsed": false
   },
   "outputs": [
    {
     "data": {
      "text/plain": [
       "<matplotlib.axes._subplots.AxesSubplot at 0x11f3f1fd0>"
      ]
     },
     "execution_count": 131,
     "metadata": {},
     "output_type": "execute_result"
    },
    {
     "data": {
      "image/png": "[encoded data removed]",
      "text/plain": [
       "<matplotlib.figure.Figure at 0x11f3fd828>"
      ]
     },
     "metadata": {},
     "output_type": "display_data"
    }
   ],
   "source": [
    "data_pd.plot.scatter(x='away_goals', y='home_goals', c=colors, s=100) #не хватило данных на 5 кластеров)"
   ]
  },
  {
   "cell_type": "code",
   "execution_count": null,
   "metadata": {
    "collapsed": true
   },
   "outputs": [],
   "source": []
  }
 ],
 "metadata": {
  "kernelspec": {
   "display_name": "Python 3",
   "language": "python",
   "name": "python3"
  },
  "language_info": {
   "codemirror_mode": {
    "name": "ipython",
    "version": 3
   },
   "file_extension": ".py",
   "mimetype": "text/x-python",
   "name": "python",
   "nbconvert_exporter": "python",
   "pygments_lexer": "ipython3",
   "version": "3.6.0"
  }
 },
 "nbformat": 4,
 "nbformat_minor": 2
}
